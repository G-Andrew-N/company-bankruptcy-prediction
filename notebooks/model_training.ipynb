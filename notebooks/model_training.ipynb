{
 "cells": [
  {
   "cell_type": "code",
   "execution_count": 15,
   "id": "00859d63-0151-4047-b8d3-43322dd5e099",
   "metadata": {},
   "outputs": [],
   "source": [
    "# Model Training for Bankruptcy Prediction\n",
    "#this notebook focused on training the model.\n",
    "\n",
    "import pandas as pd\n",
    "import numpy as np\n",
    "%run ../src/train.py\n",
    "%run ../src/preprocess.py\n",
    "import os\n",
    "# Now you can use load_data() and preprocess_data() without importing\n",
    "\n",
    "\n"
   ]
  },
  {
   "cell_type": "code",
   "execution_count": 16,
   "id": "bb515cd4-df89-4792-b17c-d8b66ea72aad",
   "metadata": {},
   "outputs": [
    {
     "name": "stdout",
     "output_type": "stream",
     "text": [
      "Dataset loaded with shape: (6819, 96)\n",
      "Training model...\n",
      "Best parameters: {'class_weight': 'balanced', 'max_depth': None, 'min_samples_split': 2, 'n_estimators': 200}\n",
      "Model and scaler saved successfully\n"
     ]
    }
   ],
   "source": [
    "## 1. Load Preprocessed Data\n",
    "\n",
    "\n",
    "# Load and preprocess data\n",
    "df = load_data('../data/data.csv')\n",
    "X_train, X_test, y_train, y_test, scaler = preprocess_data(df)\n",
    "\n",
    "\n",
    "## 2. Model Training\n",
    "\n",
    "\n",
    "\n",
    "\n",
    "# Train the model\n",
    "\n",
    "model = train_model(X_train, y_train)\n",
    "\n",
    "\n",
    "# Set correct paths\n",
    "model_path = '../models/rf_model.pkl'\n",
    "scaler_path = '../models/scaler.pkl'\n",
    "\n",
    "# Ensure models directory exists before saving\n",
    "os.makedirs(os.path.dirname(model_path), exist_ok=True)\n",
    "\n",
    "# Save the model and scaler with explicit paths\n",
    "save_model(model, scaler, model_path, scaler_path)\n"
   ]
  },
  {
   "cell_type": "code",
   "execution_count": null,
   "id": "fdb73c05-4f93-49bc-b835-dbb7d82fcae9",
   "metadata": {},
   "outputs": [],
   "source": []
  }
 ],
 "metadata": {
  "kernelspec": {
   "display_name": "Python 3 (ipykernel)",
   "language": "python",
   "name": "python3"
  },
  "language_info": {
   "codemirror_mode": {
    "name": "ipython",
    "version": 3
   },
   "file_extension": ".py",
   "mimetype": "text/x-python",
   "name": "python",
   "nbconvert_exporter": "python",
   "pygments_lexer": "ipython3",
   "version": "3.13.2"
  }
 },
 "nbformat": 4,
 "nbformat_minor": 5
}
